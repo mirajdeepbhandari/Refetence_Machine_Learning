{
  "nbformat": 4,
  "nbformat_minor": 0,
  "metadata": {
    "colab": {
      "provenance": []
    },
    "kernelspec": {
      "name": "python3",
      "display_name": "Python 3"
    },
    "language_info": {
      "name": "python"
    }
  },
  "cells": [
    {
      "cell_type": "code",
      "source": [
        "import pandas as pd\n",
        "import matplotlib.pyplot as plt\n",
        "import numpy as np"
      ],
      "metadata": {
        "id": "dAxv16EDw1C9"
      },
      "execution_count": 1,
      "outputs": []
    },
    {
      "cell_type": "code",
      "source": [
        "#land area\n",
        "\n",
        "Land_Area=[55.33253689, 71.80374727, 60.67357423, 54.94343512, 42.94182513,\n",
        "       64.94351719, 44.32113392, 89.28552708, 96.40261329, 38.96071036,\n",
        "       79.38077877, 53.36059706, 57.23641155, 92.63406719,  8.03256976,\n",
        "        9.62580067,  3.00162135, 83.42936471, 78.03751834, 87.13120268,\n",
        "       97.88321588, 80.11669786, 46.68645686, 78.27238845, 12.70916816,\n",
        "       64.35218111, 15.19197545, 94.52222279, 52.66298385, 42.05153206,\n",
        "       27.1910056 , 77.64913525, 46.15888289, 57.27496094,  2.86019024,\n",
        "       62.14591421, 61.59747655, 62.07646569, 94.43105977, 68.50020961,\n",
        "       36.59128216, 44.26616343, 70.0654884 ,  6.96232169, 67.00990483,\n",
        "       67.39314909, 21.82787355, 13.76370347, 32.22740674, 37.00736632,\n",
        "       57.44948027, 44.42154983, 98.84900997, 11.10243626, 21.67879885,\n",
        "       16.96964227, 65.65772422, 26.07586865, 47.16476651, 25.19813361,\n",
        "       16.73798878, 11.92713898, 65.97662936, 14.68011218, 20.46165381,\n",
        "       37.5037919 , 82.27832975, 10.6130263 , 83.95654584, 10.51374238,\n",
        "       97.66948704, 47.39646896, 97.69934773, 60.87970645, 74.18709436,\n",
        "        4.87959143, 28.9978893 , 12.89945956, 30.31787955, 12.75404418,\n",
        "       32.48033476, 42.01203646,  7.35060214, 69.55473982, 57.09354397,\n",
        "       27.2735596 , 52.80155729, 10.30011057, 58.01870306, 93.00032356,\n",
        "       32.53832629, 67.07362762, 14.04798838, 71.91639321, 29.6512032 ,\n",
        "       19.13594484, 59.06478055,  2.99064707, 83.06506289,  1.46485214]\n",
        "\n",
        "# price of the land in thousand dollars\n",
        "\n",
        "price=[149.01357537, 202.61575941, 176.00377286, 144.52443337,\n",
        "       150.76617221, 198.84592615, 150.43006354, 226.7718058 ,\n",
        "       232.09770036, 138.465938  , 204.72978807, 168.94564481,\n",
        "       166.55557288, 245.03452475,  69.62880349,  76.31733302,\n",
        "        56.1082429 , 234.71743436, 207.34415762, 228.28229899,\n",
        "       264.59793873, 196.7558051 , 130.66806374, 216.23874399,\n",
        "        63.68710227, 198.14057408,  76.2477611 , 231.56989746,\n",
        "       174.55538797, 148.90821203, 123.0576008 , 214.35871709,\n",
        "       133.70550893, 183.65057141,  53.04034678, 182.31639238,\n",
        "       182.66747278, 172.60283045, 245.00291325, 196.22248594,\n",
        "       126.94681963, 127.53831895, 193.11335854,  77.18850235,\n",
        "       177.07413106, 183.28995278,  89.30421158,  96.02004422,\n",
        "       121.17776105, 128.08935101, 157.1997998 , 144.23559158,\n",
        "       240.95469333,  72.52317811,  86.99913692,  90.70361749,\n",
        "       187.08135661, 100.06874975, 148.28960015,  89.46565213,\n",
        "        68.56340163,  78.24819496, 183.61999367,  85.71053874,\n",
        "       114.75475536, 134.45237866, 205.42843726,  82.39621549,\n",
        "       204.75401758,  66.41163871, 244.65655802, 161.92636514,\n",
        "       237.95114724, 163.49502752, 197.38966348,  53.1244    ,\n",
        "       119.26213781,  64.99960404,  99.16107259,  71.12988791,\n",
        "       109.98034501, 153.31939345,  74.19541235, 189.98499205,\n",
        "       151.93273274, 112.99074897, 145.60096111,  55.15251016,\n",
        "       177.91770404, 239.17007324, 124.28524082, 187.33453176,\n",
        "        86.66428288, 187.32253048,  98.95997799,  95.08783486,\n",
        "       160.09546445,  49.08579637, 211.57480075,  53.10449588]\n",
        "\n",
        "data={\"Land_Area (Acres)\": Land_Area,\n",
        "      \"price x 1000 ($)\": price\n",
        "     }"
      ],
      "metadata": {
        "id": "g7RECQ2iw_4J"
      },
      "execution_count": 2,
      "outputs": []
    },
    {
      "cell_type": "code",
      "source": [
        "df=pd.DataFrame(data)\n",
        "df.head()"
      ],
      "metadata": {
        "colab": {
          "base_uri": "https://localhost:8080/",
          "height": 206
        },
        "id": "aTxrW2xZxL4m",
        "outputId": "d5c85758-e254-4397-9020-e9a63674f617"
      },
      "execution_count": 3,
      "outputs": [
        {
          "output_type": "execute_result",
          "data": {
            "text/plain": [
              "   Land_Area (Acres)  price x 1000 ($)\n",
              "0          55.332537        149.013575\n",
              "1          71.803747        202.615759\n",
              "2          60.673574        176.003773\n",
              "3          54.943435        144.524433\n",
              "4          42.941825        150.766172"
            ],
            "text/html": [
              "\n",
              "  <div id=\"df-caf7e17b-802b-449a-beb0-348531e345de\" class=\"colab-df-container\">\n",
              "    <div>\n",
              "<style scoped>\n",
              "    .dataframe tbody tr th:only-of-type {\n",
              "        vertical-align: middle;\n",
              "    }\n",
              "\n",
              "    .dataframe tbody tr th {\n",
              "        vertical-align: top;\n",
              "    }\n",
              "\n",
              "    .dataframe thead th {\n",
              "        text-align: right;\n",
              "    }\n",
              "</style>\n",
              "<table border=\"1\" class=\"dataframe\">\n",
              "  <thead>\n",
              "    <tr style=\"text-align: right;\">\n",
              "      <th></th>\n",
              "      <th>Land_Area (Acres)</th>\n",
              "      <th>price x 1000 ($)</th>\n",
              "    </tr>\n",
              "  </thead>\n",
              "  <tbody>\n",
              "    <tr>\n",
              "      <th>0</th>\n",
              "      <td>55.332537</td>\n",
              "      <td>149.013575</td>\n",
              "    </tr>\n",
              "    <tr>\n",
              "      <th>1</th>\n",
              "      <td>71.803747</td>\n",
              "      <td>202.615759</td>\n",
              "    </tr>\n",
              "    <tr>\n",
              "      <th>2</th>\n",
              "      <td>60.673574</td>\n",
              "      <td>176.003773</td>\n",
              "    </tr>\n",
              "    <tr>\n",
              "      <th>3</th>\n",
              "      <td>54.943435</td>\n",
              "      <td>144.524433</td>\n",
              "    </tr>\n",
              "    <tr>\n",
              "      <th>4</th>\n",
              "      <td>42.941825</td>\n",
              "      <td>150.766172</td>\n",
              "    </tr>\n",
              "  </tbody>\n",
              "</table>\n",
              "</div>\n",
              "    <div class=\"colab-df-buttons\">\n",
              "\n",
              "  <div class=\"colab-df-container\">\n",
              "    <button class=\"colab-df-convert\" onclick=\"convertToInteractive('df-caf7e17b-802b-449a-beb0-348531e345de')\"\n",
              "            title=\"Convert this dataframe to an interactive table.\"\n",
              "            style=\"display:none;\">\n",
              "\n",
              "  <svg xmlns=\"http://www.w3.org/2000/svg\" height=\"24px\" viewBox=\"0 -960 960 960\">\n",
              "    <path d=\"M120-120v-720h720v720H120Zm60-500h600v-160H180v160Zm220 220h160v-160H400v160Zm0 220h160v-160H400v160ZM180-400h160v-160H180v160Zm440 0h160v-160H620v160ZM180-180h160v-160H180v160Zm440 0h160v-160H620v160Z\"/>\n",
              "  </svg>\n",
              "    </button>\n",
              "\n",
              "  <style>\n",
              "    .colab-df-container {\n",
              "      display:flex;\n",
              "      gap: 12px;\n",
              "    }\n",
              "\n",
              "    .colab-df-convert {\n",
              "      background-color: #E8F0FE;\n",
              "      border: none;\n",
              "      border-radius: 50%;\n",
              "      cursor: pointer;\n",
              "      display: none;\n",
              "      fill: #1967D2;\n",
              "      height: 32px;\n",
              "      padding: 0 0 0 0;\n",
              "      width: 32px;\n",
              "    }\n",
              "\n",
              "    .colab-df-convert:hover {\n",
              "      background-color: #E2EBFA;\n",
              "      box-shadow: 0px 1px 2px rgba(60, 64, 67, 0.3), 0px 1px 3px 1px rgba(60, 64, 67, 0.15);\n",
              "      fill: #174EA6;\n",
              "    }\n",
              "\n",
              "    .colab-df-buttons div {\n",
              "      margin-bottom: 4px;\n",
              "    }\n",
              "\n",
              "    [theme=dark] .colab-df-convert {\n",
              "      background-color: #3B4455;\n",
              "      fill: #D2E3FC;\n",
              "    }\n",
              "\n",
              "    [theme=dark] .colab-df-convert:hover {\n",
              "      background-color: #434B5C;\n",
              "      box-shadow: 0px 1px 3px 1px rgba(0, 0, 0, 0.15);\n",
              "      filter: drop-shadow(0px 1px 2px rgba(0, 0, 0, 0.3));\n",
              "      fill: #FFFFFF;\n",
              "    }\n",
              "  </style>\n",
              "\n",
              "    <script>\n",
              "      const buttonEl =\n",
              "        document.querySelector('#df-caf7e17b-802b-449a-beb0-348531e345de button.colab-df-convert');\n",
              "      buttonEl.style.display =\n",
              "        google.colab.kernel.accessAllowed ? 'block' : 'none';\n",
              "\n",
              "      async function convertToInteractive(key) {\n",
              "        const element = document.querySelector('#df-caf7e17b-802b-449a-beb0-348531e345de');\n",
              "        const dataTable =\n",
              "          await google.colab.kernel.invokeFunction('convertToInteractive',\n",
              "                                                    [key], {});\n",
              "        if (!dataTable) return;\n",
              "\n",
              "        const docLinkHtml = 'Like what you see? Visit the ' +\n",
              "          '<a target=\"_blank\" href=https://colab.research.google.com/notebooks/data_table.ipynb>data table notebook</a>'\n",
              "          + ' to learn more about interactive tables.';\n",
              "        element.innerHTML = '';\n",
              "        dataTable['output_type'] = 'display_data';\n",
              "        await google.colab.output.renderOutput(dataTable, element);\n",
              "        const docLink = document.createElement('div');\n",
              "        docLink.innerHTML = docLinkHtml;\n",
              "        element.appendChild(docLink);\n",
              "      }\n",
              "    </script>\n",
              "  </div>\n",
              "\n",
              "\n",
              "<div id=\"df-69f3f0ff-e89b-4cac-b8c2-17885a4adc5e\">\n",
              "  <button class=\"colab-df-quickchart\" onclick=\"quickchart('df-69f3f0ff-e89b-4cac-b8c2-17885a4adc5e')\"\n",
              "            title=\"Suggest charts\"\n",
              "            style=\"display:none;\">\n",
              "\n",
              "<svg xmlns=\"http://www.w3.org/2000/svg\" height=\"24px\"viewBox=\"0 0 24 24\"\n",
              "     width=\"24px\">\n",
              "    <g>\n",
              "        <path d=\"M19 3H5c-1.1 0-2 .9-2 2v14c0 1.1.9 2 2 2h14c1.1 0 2-.9 2-2V5c0-1.1-.9-2-2-2zM9 17H7v-7h2v7zm4 0h-2V7h2v10zm4 0h-2v-4h2v4z\"/>\n",
              "    </g>\n",
              "</svg>\n",
              "  </button>\n",
              "\n",
              "<style>\n",
              "  .colab-df-quickchart {\n",
              "      --bg-color: #E8F0FE;\n",
              "      --fill-color: #1967D2;\n",
              "      --hover-bg-color: #E2EBFA;\n",
              "      --hover-fill-color: #174EA6;\n",
              "      --disabled-fill-color: #AAA;\n",
              "      --disabled-bg-color: #DDD;\n",
              "  }\n",
              "\n",
              "  [theme=dark] .colab-df-quickchart {\n",
              "      --bg-color: #3B4455;\n",
              "      --fill-color: #D2E3FC;\n",
              "      --hover-bg-color: #434B5C;\n",
              "      --hover-fill-color: #FFFFFF;\n",
              "      --disabled-bg-color: #3B4455;\n",
              "      --disabled-fill-color: #666;\n",
              "  }\n",
              "\n",
              "  .colab-df-quickchart {\n",
              "    background-color: var(--bg-color);\n",
              "    border: none;\n",
              "    border-radius: 50%;\n",
              "    cursor: pointer;\n",
              "    display: none;\n",
              "    fill: var(--fill-color);\n",
              "    height: 32px;\n",
              "    padding: 0;\n",
              "    width: 32px;\n",
              "  }\n",
              "\n",
              "  .colab-df-quickchart:hover {\n",
              "    background-color: var(--hover-bg-color);\n",
              "    box-shadow: 0 1px 2px rgba(60, 64, 67, 0.3), 0 1px 3px 1px rgba(60, 64, 67, 0.15);\n",
              "    fill: var(--button-hover-fill-color);\n",
              "  }\n",
              "\n",
              "  .colab-df-quickchart-complete:disabled,\n",
              "  .colab-df-quickchart-complete:disabled:hover {\n",
              "    background-color: var(--disabled-bg-color);\n",
              "    fill: var(--disabled-fill-color);\n",
              "    box-shadow: none;\n",
              "  }\n",
              "\n",
              "  .colab-df-spinner {\n",
              "    border: 2px solid var(--fill-color);\n",
              "    border-color: transparent;\n",
              "    border-bottom-color: var(--fill-color);\n",
              "    animation:\n",
              "      spin 1s steps(1) infinite;\n",
              "  }\n",
              "\n",
              "  @keyframes spin {\n",
              "    0% {\n",
              "      border-color: transparent;\n",
              "      border-bottom-color: var(--fill-color);\n",
              "      border-left-color: var(--fill-color);\n",
              "    }\n",
              "    20% {\n",
              "      border-color: transparent;\n",
              "      border-left-color: var(--fill-color);\n",
              "      border-top-color: var(--fill-color);\n",
              "    }\n",
              "    30% {\n",
              "      border-color: transparent;\n",
              "      border-left-color: var(--fill-color);\n",
              "      border-top-color: var(--fill-color);\n",
              "      border-right-color: var(--fill-color);\n",
              "    }\n",
              "    40% {\n",
              "      border-color: transparent;\n",
              "      border-right-color: var(--fill-color);\n",
              "      border-top-color: var(--fill-color);\n",
              "    }\n",
              "    60% {\n",
              "      border-color: transparent;\n",
              "      border-right-color: var(--fill-color);\n",
              "    }\n",
              "    80% {\n",
              "      border-color: transparent;\n",
              "      border-right-color: var(--fill-color);\n",
              "      border-bottom-color: var(--fill-color);\n",
              "    }\n",
              "    90% {\n",
              "      border-color: transparent;\n",
              "      border-bottom-color: var(--fill-color);\n",
              "    }\n",
              "  }\n",
              "</style>\n",
              "\n",
              "  <script>\n",
              "    async function quickchart(key) {\n",
              "      const quickchartButtonEl =\n",
              "        document.querySelector('#' + key + ' button');\n",
              "      quickchartButtonEl.disabled = true;  // To prevent multiple clicks.\n",
              "      quickchartButtonEl.classList.add('colab-df-spinner');\n",
              "      try {\n",
              "        const charts = await google.colab.kernel.invokeFunction(\n",
              "            'suggestCharts', [key], {});\n",
              "      } catch (error) {\n",
              "        console.error('Error during call to suggestCharts:', error);\n",
              "      }\n",
              "      quickchartButtonEl.classList.remove('colab-df-spinner');\n",
              "      quickchartButtonEl.classList.add('colab-df-quickchart-complete');\n",
              "    }\n",
              "    (() => {\n",
              "      let quickchartButtonEl =\n",
              "        document.querySelector('#df-69f3f0ff-e89b-4cac-b8c2-17885a4adc5e button');\n",
              "      quickchartButtonEl.style.display =\n",
              "        google.colab.kernel.accessAllowed ? 'block' : 'none';\n",
              "    })();\n",
              "  </script>\n",
              "</div>\n",
              "\n",
              "    </div>\n",
              "  </div>\n"
            ],
            "application/vnd.google.colaboratory.intrinsic+json": {
              "type": "dataframe",
              "variable_name": "df",
              "summary": "{\n  \"name\": \"df\",\n  \"rows\": 100,\n  \"fields\": [\n    {\n      \"column\": \"Land_Area (Acres)\",\n      \"properties\": {\n        \"dtype\": \"number\",\n        \"std\": 28.685647508926944,\n        \"min\": 1.46485214,\n        \"max\": 98.84900997,\n        \"num_unique_values\": 100,\n        \"samples\": [\n          69.55473982,\n          11.10243626,\n          97.66948704\n        ],\n        \"semantic_type\": \"\",\n        \"description\": \"\"\n      }\n    },\n    {\n      \"column\": \"price x 1000 ($)\",\n      \"properties\": {\n        \"dtype\": \"number\",\n        \"std\": 58.05840093053757,\n        \"min\": 49.08579637,\n        \"max\": 264.59793873,\n        \"num_unique_values\": 100,\n        \"samples\": [\n          189.98499205,\n          72.52317811,\n          244.65655802\n        ],\n        \"semantic_type\": \"\",\n        \"description\": \"\"\n      }\n    }\n  ]\n}"
            }
          },
          "metadata": {},
          "execution_count": 3
        }
      ]
    },
    {
      "cell_type": "markdown",
      "source": [
        "# Lets Visualize Our Data"
      ],
      "metadata": {
        "id": "1fimYHOeyOjQ"
      }
    },
    {
      "cell_type": "code",
      "source": [
        "plt.scatter(x=df['Land_Area (Acres)'], y=df['price x 1000 ($)'])\n",
        "plt.title('Land Area vs Price')\n",
        "plt.xlabel('Land Area (acres)')\n",
        "plt.ylabel('Price X 1000 ($)')\n",
        "plt.grid(True)\n",
        "plt.show()"
      ],
      "metadata": {
        "colab": {
          "base_uri": "https://localhost:8080/",
          "height": 472
        },
        "id": "HMUsVl0hyRv0",
        "outputId": "6847e57c-3166-4b12-cf21-c9e1ef20ebf9"
      },
      "execution_count": 4,
      "outputs": [
        {
          "output_type": "display_data",
          "data": {
            "text/plain": [
              "<Figure size 640x480 with 1 Axes>"
            ],
            "image/png": "[encoded data removed]"
          },
          "metadata": {}
        }
      ]
    },
    {
      "cell_type": "markdown",
      "source": [
        "# There Exists the Strong linear Relation ship between price and Land Area\n",
        "\n",
        "   ### **Lets Apply OLS Method to Calculate the price of New Inputted  Land**\n",
        "   <br>\n",
        "\n",
        "**The Simple Linear Equation is given by *Y = MX + C***\n",
        "\n",
        "<br>\n",
        "\n",
        "**for calculating m we have:**\n",
        "\n",
        "  $$m = \\frac{\\sum_{i=1}^{n} (x_i - \\bar{x})(y_i - \\bar{y})}{\\sum_{i=1}^{n} (x_i - \\bar{x})^2}$$\n",
        "\n",
        "  <br>\n",
        "\n",
        "**for calculating c we have:**\n",
        "\n",
        "$$c = \\bar{y} - m\\bar{x}$$\n"
      ],
      "metadata": {
        "id": "d2d7GxrI0axJ"
      }
    },
    {
      "cell_type": "code",
      "source": [
        "def SimpleLinearRegression_Predection(X,Y):\n",
        "\n",
        "    x=X # all x column data\n",
        "\n",
        "    y=Y # all y column data\n",
        "\n",
        "    x_mean=np.mean(x) # for storing x mean (single number scalar)\n",
        "\n",
        "    y_mean=np.mean(y) # for storing y mean (single number scalar)\n",
        "\n",
        "\n",
        "    # -------------------------------for calculating m value----------------------------------------\n",
        "\n",
        "    numerator= np.sum((x-x_mean)*(y-y_mean))\n",
        "\n",
        "    denominator = np.sum((x - x_mean)**2)\n",
        "\n",
        "\n",
        "    m= numerator/ denominator # we got our m value\n",
        "\n",
        "\n",
        "    # -------------------------------for calculating c value----------------------------------------\n",
        "\n",
        "    c= y_mean - m * x_mean\n",
        "\n",
        "    # -------------------------------for calculating Y_hat predection--------------------------------\n",
        "\n",
        "    y_hat= m*x+c\n",
        "\n",
        "    return m,c,y_hat"
      ],
      "metadata": {
        "id": "l5j6uhj4ym_s"
      },
      "execution_count": 5,
      "outputs": []
    },
    {
      "cell_type": "code",
      "source": [
        "x=df['Land_Area (Acres)'].values\n",
        "\n",
        "y=df['price x 1000 ($)'].values\n",
        "\n",
        "m_value, c_value, Y_predictions = SimpleLinearRegression_Predection(x,y)"
      ],
      "metadata": {
        "id": "EnDSdiJT8Wno"
      },
      "execution_count": 6,
      "outputs": []
    },
    {
      "cell_type": "code",
      "source": [
        "print(\"The value of m is: \", m_value)\n",
        "print(\"The value of y is:\",c_value)\n",
        "print(\"The Predections Prices of land are: \",Y_predictions)\n"
      ],
      "metadata": {
        "colab": {
          "base_uri": "https://localhost:8080/"
        },
        "id": "tAGzRqiR-H_J",
        "outputId": "2b675129-d064-4c2a-843a-bb1196e4cdf7"
      },
      "execution_count": 7,
      "outputs": [
        {
          "output_type": "stream",
          "name": "stdout",
          "text": [
            "The value of m is:  1.9936298001349724\n",
            "The value of y is: 52.22788097517633\n",
            "The Predections Prices of land are:  [162.54047544 195.37797129 173.18852664 161.76475055 137.83798323\n",
            " 181.70121217 140.58781433 230.23016848 244.41900364 129.90111418\n",
            " 210.48376709 158.60915743 166.33609669 236.90591783  68.24185142\n",
            "  71.41816404  58.21200275 218.55514867 207.80580307 225.93524316\n",
            " 247.37077709 211.95091732 145.30339263 208.27404712  77.56525735\n",
            " 180.52230694  82.51505596 240.6702011  157.21837494 136.06306843\n",
            " 106.43668003 207.03151096 144.25160545 166.41294991  57.93004147\n",
            " 176.1238275  175.03044584 175.98537286 240.48845579 188.79194017\n",
            " 125.17735151 140.47822353 191.91252661  66.10817297 185.82082415\n",
            " 186.58487133  95.74458016  79.66761037 116.47739943 126.0068693\n",
            " 166.76087684 140.78800648 249.29621297  74.36202876  95.44738039\n",
            "  86.0590655  183.12507659 104.21350978 146.25696501 102.46363105\n",
            "  85.5972342   76.00618068 183.76085538  81.49459009  93.02084377\n",
            " 126.99655813 216.26041107  73.38632648 219.60615268  73.18839109\n",
            " 246.9446809  146.71889392 247.00421206 173.59947798 200.12948308\n",
            "  61.95597986 110.03893722  77.94462796 112.67050912  77.65472352\n",
            " 116.98164427 135.98432883  66.88226045 190.89428302 166.05127163\n",
            " 106.60126215 157.49463908  72.76248835 167.89569636 237.63609745\n",
            " 117.09725791 185.9478638   80.23436924 195.6025456  111.34140328\n",
            "  90.37787086 169.98118762  58.1901241  217.8288657   55.14825385]\n"
          ]
        }
      ]
    },
    {
      "cell_type": "markdown",
      "source": [
        "# Lets Visualize our Best Fit Line"
      ],
      "metadata": {
        "id": "3aB9pWOX-nte"
      }
    },
    {
      "cell_type": "code",
      "source": [
        "plt.scatter(x=df['Land_Area (Acres)'], y=df['price x 1000 ($)'])\n",
        "plt.plot(df['Land_Area (Acres)'], Y_predictions, color='red',label='Best Fit Line')\n",
        "plt.title('Land Area vs Price')\n",
        "plt.xlabel('Land Area (acres)')\n",
        "plt.ylabel('Price X 1000 ($)')\n",
        "plt.grid(True)\n",
        "plt.legend()\n",
        "plt.show()"
      ],
      "metadata": {
        "colab": {
          "base_uri": "https://localhost:8080/",
          "height": 472
        },
        "id": "3E-qCKxL-je_",
        "outputId": "d343d652-b32e-4976-9197-3e579353b5f0"
      },
      "execution_count": 8,
      "outputs": [
        {
          "output_type": "display_data",
          "data": {
            "text/plain": [
              "<Figure size 640x480 with 1 Axes>"
            ],
            "image/png": "[encoded data removed]"
          },
          "metadata": {}
        }
      ]
    },
    {
      "cell_type": "code",
      "source": [],
      "metadata": {
        "id": "6fhR62cAHmjY"
      },
      "execution_count": 8,
      "outputs": []
    },
    {
      "cell_type": "markdown",
      "source": [
        "# Lets Predict the price of 61 Acres Land"
      ],
      "metadata": {
        "id": "qkKf9KlCH7Za"
      }
    },
    {
      "cell_type": "code",
      "source": [
        "x=61\n",
        "# price = m * land(acres) + c\n",
        "y_predection= 1.99 * 61 + 52.22\n",
        "\n",
        "print(\"The price of 61 acres land is: \",y_predection*1000,\"$\")"
      ],
      "metadata": {
        "colab": {
          "base_uri": "https://localhost:8080/"
        },
        "id": "hR3NOd3dICOp",
        "outputId": "232195e8-5b3e-44df-bfcf-7ae4cf317d33"
      },
      "execution_count": 9,
      "outputs": [
        {
          "output_type": "stream",
          "name": "stdout",
          "text": [
            "The price of 61 acres land is:  173610.0 $\n"
          ]
        }
      ]
    }
  ]
}